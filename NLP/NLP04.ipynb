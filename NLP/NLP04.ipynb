{
  "nbformat": 4,
  "nbformat_minor": 0,
  "metadata": {
    "colab": {
      "provenance": []
    },
    "kernelspec": {
      "name": "python3",
      "display_name": "Python 3"
    },
    "language_info": {
      "name": "python"
    }
  },
  "cells": [
    {
      "cell_type": "markdown",
      "source": [
        "Objective of the task -  To implement the edit distance algorithm, which calculates the minimum number of operations required to transform one string into another. The operations considered are insertion, deletion, and substitution.\n",
        "\n",
        "\n",
        "\n",
        "  Edit distance is a measure of the similarity between two strings. It is defined as the minimum number of single-character edits (insertions, deletions, or substitutions) needed to change one word into the other.\n",
        "\n",
        "Implement the edit distance algorithm.The implementation should include:\n",
        "\n",
        "• A function to compute the edit distance between two given strings.\n",
        "• A function to print the edit distance matrix for a pair of strings.\n",
        "• A function to trace back and print the sequence of operations (insertions, deletions, substitutions) to transform one string into the other.\n",
        "\n",
        "Implement the two edit distance algorithm :\n",
        "Levenshtein Distance\n",
        "\n",
        "\n",
        "Hamming Distance\n",
        "\n",
        "  \n",
        "Analysis :\n",
        "\n",
        "• Elaborate how many\n",
        "\n",
        "(insertions, deletions, or substitutions) needed to change one word into the other.\n",
        "• Analyse the algorithm if insertion takes 1 units , deletion takes 1 units and substitution takes 1 units ?"
      ],
      "metadata": {
        "id": "ghpiKvgkHakY"
      }
    },
    {
      "cell_type": "code",
      "source": [
        "def hamming_distance_analysis(s1, s2):\n",
        "    # Function to compute the Hamming Distance\n",
        "    def compute_hamming_distance(s1, s2):\n",
        "        if len(s1) != len(s2):\n",
        "            raise ValueError(\"Strings must be of the same length to compute Hamming Distance\")\n",
        "        distance = sum(1 for x, y in zip(s1, s2) if x != y)\n",
        "        return distance\n",
        "\n",
        "    # Function to print the Hamming Distance Matrix\n",
        "    def print_hamming_matrix(s1, s2):\n",
        "        print(\"Comparing Characters:\")\n",
        "        print(f\"{' '.join(s1)}\")\n",
        "        print(f\"{' '.join(s2)}\")\n",
        "        print(\"\\nDistance Matrix:\")\n",
        "        print(\" \", \" \".join([\"1\" if x != y else \"0\" for x, y in zip(s1, s2)]))\n",
        "\n",
        "    # Function to trace back and print the sequence of operations\n",
        "    def trace_hamming_operations(s1, s2):\n",
        "        operations = []\n",
        "        for i in range(len(s1)):\n",
        "            if s1[i] != s2[i]:\n",
        "                operations.append(f\"Substitute '{s1[i]}' at position {i+1} with '{s2[i]}'\")\n",
        "        return operations\n",
        "\n",
        "    # Compute the Hamming Distance\n",
        "    distance = compute_hamming_distance(s1, s2)\n",
        "\n",
        "    # Print the Hamming Distance Matrix\n",
        "    print_hamming_matrix(s1, s2)\n",
        "\n",
        "    # Trace and print the sequence of operations\n",
        "    operations = trace_hamming_operations(s1, s2)\n",
        "    print(\"\\nOperations:\")\n",
        "    for op in operations:\n",
        "        print(op)\n",
        "\n",
        "    # Return the computed Hamming Distance\n",
        "    return distance\n",
        "\n",
        "# Example usage\n",
        "s1 = \"flaw\"\n",
        "s2 = \"lawn\"\n",
        "\n",
        "try:\n",
        "    hamming_dist = hamming_distance_analysis(s1, s2)\n",
        "    print(f\"\\nHamming Distance: {hamming_dist}\")\n",
        "except ValueError as e:\n",
        "    print(e)"
      ],
      "metadata": {
        "colab": {
          "base_uri": "https://localhost:8080/"
        },
        "id": "anV4ubhiJkG4",
        "outputId": "93328a2c-a375-47e6-c48c-7d34270ca0f5"
      },
      "execution_count": 12,
      "outputs": [
        {
          "output_type": "stream",
          "name": "stdout",
          "text": [
            "Comparing Characters:\n",
            "f l a w\n",
            "l a w n\n",
            "\n",
            "Distance Matrix:\n",
            "  1 1 1 1\n",
            "\n",
            "Operations:\n",
            "Substitute 'f' at position 1 with 'l'\n",
            "Substitute 'l' at position 2 with 'a'\n",
            "Substitute 'a' at position 3 with 'w'\n",
            "Substitute 'w' at position 4 with 'n'\n",
            "\n",
            "Hamming Distance: 4\n"
          ]
        }
      ]
    },
    {
      "cell_type": "code",
      "source": [],
      "metadata": {
        "id": "8PZdxO6lO2a-"
      },
      "execution_count": null,
      "outputs": []
    }
  ]
}