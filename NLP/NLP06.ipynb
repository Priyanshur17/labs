{
  "nbformat": 4,
  "nbformat_minor": 0,
  "metadata": {
    "colab": {
      "provenance": []
    },
    "kernelspec": {
      "name": "python3",
      "display_name": "Python 3"
    },
    "language_info": {
      "name": "python"
    }
  },
  "cells": [
    {
      "cell_type": "markdown",
      "source": [
        "Design a logistic regression model to predict the likelihood of individuals defaulting on a loan based on various personal and financial features. The dataset contains information about 100 individuals, including their age, income, credit score, education level, and marital status, along with a binary target variable indicating whether they defaulted on a loan.\n",
        "\n",
        "The required task to perform :\n",
        "\n",
        "Data Understanding: Analyze the dataset to understand the relationships between the features and the target variable (loan default).\n",
        "\n",
        "Data Preprocessing: Clean the dataset and handle categorical variables using one-hot encoding.\n",
        "Normalize or standardize numerical features if necessary.\n",
        "\n",
        "Model Development:\n",
        "\n",
        "1. Implement a logistic regression algorithm from scratch without using any predefined functions or libraries for logistic regression.\n",
        "2. Again, using the predefined model function of logistic regression.\n",
        "\n",
        "Split the data into training and testing in the ratio 80:20, and train the model on the training dataset.\n",
        "\n",
        "Model Evaluation:\n",
        "\n",
        "1. Evaluate the model’s performance on a remaining test dataset by calculating accuracy.\n",
        "2. Compare the model's accuracy with or without the predefined functions for logistic regression.\n",
        "3. Summarize your observation in a paragraph/ bullet point."
      ],
      "metadata": {
        "id": "aQ-TbLFtnRnM"
      }
    },
    {
      "cell_type": "code",
      "source": [],
      "metadata": {
        "id": "I-KSzyMDnRJy"
      },
      "execution_count": null,
      "outputs": []
    },
    {
      "cell_type": "code",
      "execution_count": null,
      "metadata": {
        "id": "_cRPyxw-mfGB"
      },
      "outputs": [],
      "source": [
        "import pandas as pd\n",
        "import numpy as np\n",
        "from sklearn.model_selection import train_test_split\n",
        "from sklearn.preprocessing import StandardScaler\n",
        "from sklearn.linear_model import LogisticRegression\n",
        "from sklearn.metrics import accuracy_score"
      ]
    },
    {
      "cell_type": "code",
      "source": [
        "# Load the data\n",
        "data = pd.read_csv('./data.csv')"
      ],
      "metadata": {
        "id": "oMEIMOH6pcjJ"
      },
      "execution_count": null,
      "outputs": []
    },
    {
      "cell_type": "code",
      "source": [
        "# Data Understanding\n",
        "print(data.head())\n",
        "print(data.info())\n",
        "print(data.describe())"
      ],
      "metadata": {
        "colab": {
          "base_uri": "https://localhost:8080/"
        },
        "id": "b5j2qZx9pc0v",
        "outputId": "8949391c-f7a6-4336-9020-8446becec724"
      },
      "execution_count": null,
      "outputs": [
        {
          "output_type": "stream",
          "name": "stdout",
          "text": [
            "   Age  Income  Credit_Score Education_Level Marital_Status  Default\n",
            "0   57   33748           664        Master's        Married        1\n",
            "1   28   33561           422     High School         Single        1\n",
            "2   38   63159           715     High School        Married        0\n",
            "3   31   51959           337        Master's         Single        1\n",
            "4   54   53419           301     High School        Married        1\n",
            "<class 'pandas.core.frame.DataFrame'>\n",
            "RangeIndex: 100 entries, 0 to 99\n",
            "Data columns (total 6 columns):\n",
            " #   Column           Non-Null Count  Dtype \n",
            "---  ------           --------------  ----- \n",
            " 0   Age              100 non-null    int64 \n",
            " 1   Income           100 non-null    int64 \n",
            " 2   Credit_Score     100 non-null    int64 \n",
            " 3   Education_Level  100 non-null    object\n",
            " 4   Marital_Status   100 non-null    object\n",
            " 5   Default          100 non-null    int64 \n",
            "dtypes: int64(4), object(2)\n",
            "memory usage: 4.8+ KB\n",
            "None\n",
            "             Age         Income  Credit_Score     Default\n",
            "count  100.00000     100.000000      100.0000  100.000000\n",
            "mean    40.88000   75642.230000      567.5800    0.660000\n",
            "std     13.99082   26598.532266      152.2977    0.476095\n",
            "min     18.00000   30206.000000      301.0000    0.000000\n",
            "25%     30.50000   53229.750000      446.7500    0.000000\n",
            "50%     41.00000   79002.500000      553.0000    1.000000\n",
            "75%     53.25000   96924.500000      702.0000    1.000000\n",
            "max     64.00000  119474.000000      846.0000    1.000000\n"
          ]
        }
      ]
    },
    {
      "cell_type": "code",
      "source": [
        "# Check for missing values\n",
        "print(data.isnull().sum())"
      ],
      "metadata": {
        "colab": {
          "base_uri": "https://localhost:8080/"
        },
        "id": "VI2kk6mCpc32",
        "outputId": "e3ba3f80-52fc-42a0-8ef9-8c232ea32b70"
      },
      "execution_count": null,
      "outputs": [
        {
          "output_type": "stream",
          "name": "stdout",
          "text": [
            "Age                0\n",
            "Income             0\n",
            "Credit_Score       0\n",
            "Education_Level    0\n",
            "Marital_Status     0\n",
            "Default            0\n",
            "dtype: int64\n"
          ]
        }
      ]
    },
    {
      "cell_type": "code",
      "source": [
        "\n",
        "# Analyze the relationship between features and target variable\n",
        "print(data.groupby('Default').mean(numeric_only=True))"
      ],
      "metadata": {
        "colab": {
          "base_uri": "https://localhost:8080/"
        },
        "id": "IMKmCxVJpc69",
        "outputId": "6a20aced-b6db-4b94-8b5f-52bfe55ac87a"
      },
      "execution_count": null,
      "outputs": [
        {
          "output_type": "stream",
          "name": "stdout",
          "text": [
            "               Age        Income  Credit_Score\n",
            "Default                                       \n",
            "0        39.264706  81447.647059    726.205882\n",
            "1        41.712121  72651.560606    485.863636\n"
          ]
        }
      ]
    },
    {
      "cell_type": "code",
      "source": [
        "# Data Preprocessing\n",
        "# One-hot encoding for categorical variables\n",
        "data_encoded = pd.get_dummies(data, columns=['Education_Level', 'Marital_Status'])"
      ],
      "metadata": {
        "id": "vgdV4Ozdpc94"
      },
      "execution_count": null,
      "outputs": []
    },
    {
      "cell_type": "code",
      "source": [
        "# Separate features and target variable\n",
        "X = data_encoded.drop(['Default'], axis=1)\n",
        "y = data_encoded['Default']"
      ],
      "metadata": {
        "id": "L12UPp49pdA6"
      },
      "execution_count": null,
      "outputs": []
    },
    {
      "cell_type": "code",
      "source": [
        "# Normalize numerical features\n",
        "scaler = StandardScaler()\n",
        "X_scaled = scaler.fit_transform(X)"
      ],
      "metadata": {
        "id": "xpUPOu1NpdEg"
      },
      "execution_count": null,
      "outputs": []
    },
    {
      "cell_type": "code",
      "source": [
        "# Split the data into training and testing sets\n",
        "X_train, X_test, y_train, y_test = train_test_split(X_scaled, y, test_size=0.2, random_state=42)"
      ],
      "metadata": {
        "id": "mKibhhzHpu9d"
      },
      "execution_count": null,
      "outputs": []
    },
    {
      "cell_type": "code",
      "source": [
        "# Logistic Regression from scratch\n",
        "class LogisticRegressionScratch:\n",
        "    def __init__(self, learning_rate=0.01, num_iterations=1000):\n",
        "        self.learning_rate = learning_rate\n",
        "        self.num_iterations = num_iterations\n",
        "        self.weights = None\n",
        "        self.bias = None\n",
        "\n",
        "    def sigmoid(self, z):\n",
        "        return 1 / (1 + np.exp(-z))\n",
        "\n",
        "    def fit(self, X, y):\n",
        "        n_samples, n_features = X.shape\n",
        "        self.weights = np.zeros(n_features)\n",
        "        self.bias = 0\n",
        "\n",
        "        for _ in range(self.num_iterations):\n",
        "            linear_model = np.dot(X, self.weights) + self.bias\n",
        "            y_predicted = self.sigmoid(linear_model)\n",
        "\n",
        "            dw = (1 / n_samples) * np.dot(X.T, (y_predicted - y))\n",
        "            db = (1 / n_samples) * np.sum(y_predicted - y)\n",
        "\n",
        "            self.weights -= self.learning_rate * dw\n",
        "            self.bias -= self.learning_rate * db\n",
        "\n",
        "    def predict(self, X):\n",
        "        linear_model = np.dot(X, self.weights) + self.bias\n",
        "        y_predicted = self.sigmoid(linear_model)\n",
        "        return [1 if i > 0.5 else 0 for i in y_predicted]"
      ],
      "metadata": {
        "id": "ETYufdObpvAP"
      },
      "execution_count": null,
      "outputs": []
    },
    {
      "cell_type": "code",
      "source": [
        "# Train and evaluate the scratch model\n",
        "model_scratch = LogisticRegressionScratch()\n",
        "model_scratch.fit(X_train, y_train)\n",
        "y_pred_scratch = model_scratch.predict(X_test)\n",
        "accuracy_scratch = accuracy_score(y_test, y_pred_scratch)\n",
        "print(f\"Accuracy of scratch model: {accuracy_scratch}\")"
      ],
      "metadata": {
        "colab": {
          "base_uri": "https://localhost:8080/"
        },
        "id": "PbsaxSbqpvDQ",
        "outputId": "cec5cb98-3437-42a5-b867-d3ee7fabbbe6"
      },
      "execution_count": null,
      "outputs": [
        {
          "output_type": "stream",
          "name": "stdout",
          "text": [
            "Accuracy of scratch model: 0.95\n"
          ]
        }
      ]
    },
    {
      "cell_type": "code",
      "source": [
        "# Train and evaluate using predefined logistic regression\n",
        "model_predefined = LogisticRegression()\n",
        "model_predefined.fit(X_train, y_train)\n",
        "y_pred_predefined = model_predefined.predict(X_test)\n",
        "accuracy_predefined = accuracy_score(y_test, y_pred_predefined)\n",
        "print(f\"Accuracy of predefined model: {accuracy_predefined}\")"
      ],
      "metadata": {
        "colab": {
          "base_uri": "https://localhost:8080/"
        },
        "id": "tcUVSOlxpvGv",
        "outputId": "568b59a0-9ede-42e7-f2cf-861b54a39e93"
      },
      "execution_count": null,
      "outputs": [
        {
          "output_type": "stream",
          "name": "stdout",
          "text": [
            "Accuracy of predefined model: 0.9\n"
          ]
        }
      ]
    },
    {
      "cell_type": "code",
      "source": [
        "# Summarize observations\n",
        "print(\"\\nObservations:\")\n",
        "print(\"1. The scratch implementation and predefined logistic regression model show similar accuracy.\")\n",
        "print(\"2. Both models achieve reasonable accuracy, indicating that the features have predictive power for loan default.\")\n",
        "print(\"3. The predefined model might perform slightly better due to optimized implementation and additional parameters.\")\n",
        "print(\"4. Further feature engineering or trying other algorithms could potentially improve the model's performance.\")"
      ],
      "metadata": {
        "colab": {
          "base_uri": "https://localhost:8080/"
        },
        "id": "TmKVaVKRp_Uf",
        "outputId": "91058950-a370-49fe-a251-e0afdcbfb2ff"
      },
      "execution_count": null,
      "outputs": [
        {
          "output_type": "stream",
          "name": "stdout",
          "text": [
            "\n",
            "Observations:\n",
            "1. The scratch implementation and predefined logistic regression model show similar accuracy.\n",
            "2. Both models achieve reasonable accuracy, indicating that the features have predictive power for loan default.\n",
            "3. The predefined model might perform slightly better due to optimized implementation and additional parameters.\n",
            "4. Further feature engineering or trying other algorithms could potentially improve the model's performance.\n"
          ]
        }
      ]
    },
    {
      "cell_type": "code",
      "source": [],
      "metadata": {
        "id": "EGqIWmZvqRkW"
      },
      "execution_count": null,
      "outputs": []
    }
  ]
}