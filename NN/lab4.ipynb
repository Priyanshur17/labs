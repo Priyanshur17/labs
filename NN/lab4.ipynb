{
  "nbformat": 4,
  "nbformat_minor": 0,
  "metadata": {
    "colab": {
      "provenance": []
    },
    "kernelspec": {
      "name": "python3",
      "display_name": "Python 3"
    },
    "language_info": {
      "name": "python"
    }
  },
  "cells": [
    {
      "cell_type": "code",
      "source": [
        "!pip install wandb -q"
      ],
      "metadata": {
        "colab": {
          "base_uri": "https://localhost:8080/"
        },
        "id": "HGgEcF_EFKWI",
        "outputId": "ab0e71e4-b1d3-412d-a8ff-704798d22095"
      },
      "execution_count": null,
      "outputs": [
        {
          "output_type": "stream",
          "name": "stdout",
          "text": [
            "\u001b[2K   \u001b[90m━━━━━━━━━━━━━━━━━━━━━━━━━━━━━━━━━━━━━━━━\u001b[0m \u001b[32m9.4/9.4 MB\u001b[0m \u001b[31m46.3 MB/s\u001b[0m eta \u001b[36m0:00:00\u001b[0m\n",
            "\u001b[2K   \u001b[90m━━━━━━━━━━━━━━━━━━━━━━━━━━━━━━━━━━━━━━━━\u001b[0m \u001b[32m207.3/207.3 kB\u001b[0m \u001b[31m12.3 MB/s\u001b[0m eta \u001b[36m0:00:00\u001b[0m\n",
            "\u001b[2K   \u001b[90m━━━━━━━━━━━━━━━━━━━━━━━━━━━━━━━━━━━━━━━━\u001b[0m \u001b[32m309.1/309.1 kB\u001b[0m \u001b[31m17.1 MB/s\u001b[0m eta \u001b[36m0:00:00\u001b[0m\n",
            "\u001b[2K   \u001b[90m━━━━━━━━━━━━━━━━━━━━━━━━━━━━━━━━━━━━━━━━\u001b[0m \u001b[32m62.7/62.7 kB\u001b[0m \u001b[31m4.0 MB/s\u001b[0m eta \u001b[36m0:00:00\u001b[0m\n",
            "\u001b[?25h"
          ]
        }
      ]
    },
    {
      "cell_type": "code",
      "execution_count": null,
      "metadata": {
        "colab": {
          "base_uri": "https://localhost:8080/",
          "height": 191
        },
        "id": "JbJeCIy-BLlX",
        "outputId": "151157cd-a501-4917-d379-79eee4215fac"
      },
      "outputs": [
        {
          "output_type": "display_data",
          "data": {
            "text/plain": [
              "<IPython.core.display.Javascript object>"
            ],
            "application/javascript": [
              "\n",
              "        window._wandbApiKey = new Promise((resolve, reject) => {\n",
              "            function loadScript(url) {\n",
              "            return new Promise(function(resolve, reject) {\n",
              "                let newScript = document.createElement(\"script\");\n",
              "                newScript.onerror = reject;\n",
              "                newScript.onload = resolve;\n",
              "                document.body.appendChild(newScript);\n",
              "                newScript.src = url;\n",
              "            });\n",
              "            }\n",
              "            loadScript(\"https://cdn.jsdelivr.net/npm/postmate/build/postmate.min.js\").then(() => {\n",
              "            const iframe = document.createElement('iframe')\n",
              "            iframe.style.cssText = \"width:0;height:0;border:none\"\n",
              "            document.body.appendChild(iframe)\n",
              "            const handshake = new Postmate({\n",
              "                container: iframe,\n",
              "                url: 'https://wandb.ai/authorize'\n",
              "            });\n",
              "            const timeout = setTimeout(() => reject(\"Couldn't auto authenticate\"), 5000)\n",
              "            handshake.then(function(child) {\n",
              "                child.on('authorize', data => {\n",
              "                    clearTimeout(timeout)\n",
              "                    resolve(data)\n",
              "                });\n",
              "            });\n",
              "            })\n",
              "        });\n",
              "    "
            ]
          },
          "metadata": {}
        },
        {
          "output_type": "stream",
          "name": "stderr",
          "text": [
            "\u001b[34m\u001b[1mwandb\u001b[0m: Logging into wandb.ai. (Learn how to deploy a W&B server locally: https://wandb.me/wandb-server)\n",
            "\u001b[34m\u001b[1mwandb\u001b[0m: You can find your API key in your browser here: https://wandb.ai/authorize\n",
            "wandb: Paste an API key from your profile and hit enter, or press ctrl+c to quit:"
          ]
        },
        {
          "name": "stdout",
          "output_type": "stream",
          "text": [
            " ··········\n"
          ]
        },
        {
          "output_type": "stream",
          "name": "stderr",
          "text": [
            "\u001b[34m\u001b[1mwandb\u001b[0m: Appending key for api.wandb.ai to your netrc file: /root/.netrc\n"
          ]
        },
        {
          "output_type": "display_data",
          "data": {
            "text/plain": [
              "<IPython.core.display.HTML object>"
            ],
            "text/html": [
              "Tracking run with wandb version 0.17.9"
            ]
          },
          "metadata": {}
        },
        {
          "output_type": "display_data",
          "data": {
            "text/plain": [
              "<IPython.core.display.HTML object>"
            ],
            "text/html": [
              "Run data is saved locally in <code>/content/wandb/run-20240909_044320-eeuf2nhc</code>"
            ]
          },
          "metadata": {}
        },
        {
          "output_type": "display_data",
          "data": {
            "text/plain": [
              "<IPython.core.display.HTML object>"
            ],
            "text/html": [
              "Syncing run <strong><a href='https://wandb.ai/priyanshur754-na/optimizer-analysis/runs/eeuf2nhc' target=\"_blank\">summer-glitter-1</a></strong> to <a href='https://wandb.ai/priyanshur754-na/optimizer-analysis' target=\"_blank\">Weights & Biases</a> (<a href='https://wandb.me/run' target=\"_blank\">docs</a>)<br/>"
            ]
          },
          "metadata": {}
        },
        {
          "output_type": "display_data",
          "data": {
            "text/plain": [
              "<IPython.core.display.HTML object>"
            ],
            "text/html": [
              " View project at <a href='https://wandb.ai/priyanshur754-na/optimizer-analysis' target=\"_blank\">https://wandb.ai/priyanshur754-na/optimizer-analysis</a>"
            ]
          },
          "metadata": {}
        },
        {
          "output_type": "display_data",
          "data": {
            "text/plain": [
              "<IPython.core.display.HTML object>"
            ],
            "text/html": [
              " View run at <a href='https://wandb.ai/priyanshur754-na/optimizer-analysis/runs/eeuf2nhc' target=\"_blank\">https://wandb.ai/priyanshur754-na/optimizer-analysis/runs/eeuf2nhc</a>"
            ]
          },
          "metadata": {}
        }
      ],
      "source": [
        "import torch\n",
        "import torch.nn as nn\n",
        "import torch.optim as optim\n",
        "from torch.utils.data import DataLoader\n",
        "from torchvision import datasets, transforms\n",
        "import matplotlib.pyplot as plt\n",
        "import wandb\n",
        "\n",
        "# Initialize Weights and Biases (optional)\n",
        "wandb.init(project=\"optimizer-analysis\")\n",
        "\n",
        "# MNIST dataset\n",
        "transform = transforms.Compose([transforms.ToTensor(), transforms.Normalize((0.5,), (0.5,))])\n",
        "train_data = datasets.MNIST(root='data', train=True, download=True, transform=transform)\n",
        "test_data = datasets.MNIST(root='data', train=False, download=True, transform=transform)\n",
        "\n",
        "train_loader = DataLoader(train_data, batch_size=64, shuffle=True)\n",
        "test_loader = DataLoader(test_data, batch_size=1000, shuffle=False)\n"
      ]
    },
    {
      "cell_type": "code",
      "source": [
        "class SimpleNN(nn.Module):\n",
        "    def __init__(self):\n",
        "        super(SimpleNN, self).__init__()\n",
        "        self.fc1 = nn.Linear(28*28, 128)\n",
        "        self.fc2 = nn.Linear(128, 64)\n",
        "        self.fc3 = nn.Linear(64, 10)\n",
        "\n",
        "    def forward(self, x):\n",
        "        x = x.view(-1, 28*28)  # Flatten the input\n",
        "        x = torch.relu(self.fc1(x))\n",
        "        x = torch.relu(self.fc2(x))\n",
        "        x = self.fc3(x)\n",
        "        return x\n",
        "\n",
        "model = SimpleNN()\n"
      ],
      "metadata": {
        "id": "inRJIfVdByv7"
      },
      "execution_count": null,
      "outputs": []
    },
    {
      "cell_type": "code",
      "source": [
        "# Choose optimizer here and parameters\n",
        "optimizers = {\n",
        "    \"SGD\": optim.SGD(model.parameters(), lr=0.1),\n",
        "    \"SGD_with_momentum\": optim.SGD(model.parameters(), lr=0.01, momentum=0.9),\n",
        "    \"Adagrad\": optim.Adagrad(model.parameters(), lr=0.01),\n",
        "    \"Adam\": optim.Adam(model.parameters(), lr=0.001)\n",
        "}\n"
      ],
      "metadata": {
        "id": "POpuA9LjFJWt"
      },
      "execution_count": null,
      "outputs": []
    },
    {
      "cell_type": "code",
      "source": [
        "def train(model, device, train_loader, optimizer, epoch):\n",
        "    model.train()\n",
        "    total_loss = 0\n",
        "    correct = 0\n",
        "    for data, target in train_loader:\n",
        "        data, target = data.to(device), target.to(device)\n",
        "        optimizer.zero_grad()\n",
        "        output = model(data)\n",
        "        loss = nn.CrossEntropyLoss()(output, target)\n",
        "        loss.backward()\n",
        "        optimizer.step()\n",
        "        total_loss += loss.item()\n",
        "        pred = output.argmax(dim=1, keepdim=True)\n",
        "        correct += pred.eq(target.view_as(pred)).sum().item()\n",
        "\n",
        "    avg_loss = total_loss / len(train_loader)\n",
        "    accuracy = 100. * correct / len(train_loader.dataset)\n",
        "    return avg_loss, accuracy\n",
        "\n",
        "def test(model, device, test_loader):\n",
        "    model.eval()\n",
        "    test_loss = 0\n",
        "    correct = 0\n",
        "    with torch.no_grad():\n",
        "        for data, target in test_loader:\n",
        "            data, target = data.to(device), target.to(device)\n",
        "            output = model(data)\n",
        "            test_loss += nn.CrossEntropyLoss()(output, target).item()\n",
        "            pred = output.argmax(dim=1, keepdim=True)\n",
        "            correct += pred.eq(target.view_as(pred)).sum().item()\n",
        "\n",
        "    test_loss /= len(test_loader)\n",
        "    accuracy = 100. * correct / len(test_loader.dataset)\n",
        "    return test_loss, accuracy\n"
      ],
      "metadata": {
        "id": "fx-Ddnq8GEfM"
      },
      "execution_count": null,
      "outputs": []
    },
    {
      "cell_type": "code",
      "source": [
        "def run_experiments():\n",
        "    epochs = 5\n",
        "    device = torch.device(\"cuda\" if torch.cuda.is_available() else \"cpu\")\n",
        "    results = {}\n",
        "\n",
        "    for name, optimizer in optimizers.items():\n",
        "        model = SimpleNN().to(device)\n",
        "        optimizer = optimizer\n",
        "\n",
        "        train_losses = []\n",
        "        test_accuracies = []\n",
        "\n",
        "        for epoch in range(1, epochs + 1):\n",
        "            train_loss, train_acc = train(model, device, train_loader, optimizer, epoch)\n",
        "            test_loss, test_acc = test(model, device, test_loader)\n",
        "\n",
        "            train_losses.append(train_loss)\n",
        "            test_accuracies.append(test_acc)\n",
        "\n",
        "            wandb.log({\n",
        "                \"epoch\": epoch,\n",
        "                f\"train_loss_{name}\": train_loss,\n",
        "                f\"train_accuracy_{name}\": train_acc,\n",
        "                f\"test_accuracy_{name}\": test_acc\n",
        "            })\n",
        "            print(f\"Optimizer: {name}, Epoch: {epoch}, Train Loss: {train_loss}, Test Accuracy: {test_acc}\")\n",
        "\n",
        "        results[name] = {\n",
        "            \"train_loss\": train_losses,\n",
        "            \"test_accuracy\": test_accuracies\n",
        "        }\n",
        "\n",
        "    return results\n"
      ],
      "metadata": {
        "id": "ALIAG1puGHqw"
      },
      "execution_count": null,
      "outputs": []
    },
    {
      "cell_type": "code",
      "source": [
        "def plot_results(results):\n",
        "    for name, result in results.items():\n",
        "        plt.plot(result['train_loss'], label=f\"{name} - Train Loss\")\n",
        "        plt.plot(result['test_accuracy'], label=f\"{name} - Test Accuracy\")\n",
        "\n",
        "    plt.title(\"Optimizer Comparison\")\n",
        "    plt.xlabel(\"Epochs\")\n",
        "    plt.ylabel(\"Performance\")\n",
        "    plt.legend()\n",
        "    plt.show()\n",
        "\n",
        "# Run experiments and plot\n",
        "results = run_experiments()\n",
        "plot_results(results)\n"
      ],
      "metadata": {
        "colab": {
          "base_uri": "https://localhost:8080/",
          "height": 819
        },
        "id": "HokJpj6LGMOi",
        "outputId": "f481d12b-c4eb-4dbe-95a2-977eafe9becd"
      },
      "execution_count": null,
      "outputs": [
        {
          "output_type": "stream",
          "name": "stdout",
          "text": [
            "Optimizer: SGD, Epoch: 1, Train Loss: 2.3056257210814874, Test Accuracy: 7.92\n",
            "Optimizer: SGD, Epoch: 2, Train Loss: 2.3056228641253798, Test Accuracy: 7.92\n",
            "Optimizer: SGD, Epoch: 3, Train Loss: 2.3056181262551085, Test Accuracy: 7.92\n",
            "Optimizer: SGD, Epoch: 4, Train Loss: 2.3056435429973643, Test Accuracy: 7.92\n",
            "Optimizer: SGD, Epoch: 5, Train Loss: 2.3056369656438767, Test Accuracy: 7.92\n",
            "Optimizer: SGD_with_momentum, Epoch: 1, Train Loss: 2.3042540611234554, Test Accuracy: 8.5\n",
            "Optimizer: SGD_with_momentum, Epoch: 2, Train Loss: 2.3042405381131528, Test Accuracy: 8.5\n",
            "Optimizer: SGD_with_momentum, Epoch: 3, Train Loss: 2.3042494320411926, Test Accuracy: 8.5\n",
            "Optimizer: SGD_with_momentum, Epoch: 4, Train Loss: 2.3042577070468018, Test Accuracy: 8.5\n",
            "Optimizer: SGD_with_momentum, Epoch: 5, Train Loss: 2.3042509944708365, Test Accuracy: 8.5\n",
            "Optimizer: Adagrad, Epoch: 1, Train Loss: 2.3111295316265084, Test Accuracy: 9.91\n",
            "Optimizer: Adagrad, Epoch: 2, Train Loss: 2.3111472422126007, Test Accuracy: 9.91\n",
            "Optimizer: Adagrad, Epoch: 3, Train Loss: 2.311127645628793, Test Accuracy: 9.91\n",
            "Optimizer: Adagrad, Epoch: 4, Train Loss: 2.3111412845440764, Test Accuracy: 9.91\n",
            "Optimizer: Adagrad, Epoch: 5, Train Loss: 2.3111379243163412, Test Accuracy: 9.91\n",
            "Optimizer: Adam, Epoch: 1, Train Loss: 2.311667433679739, Test Accuracy: 10.11\n",
            "Optimizer: Adam, Epoch: 2, Train Loss: 2.311679291572652, Test Accuracy: 10.11\n",
            "Optimizer: Adam, Epoch: 3, Train Loss: 2.311653387571957, Test Accuracy: 10.11\n",
            "Optimizer: Adam, Epoch: 4, Train Loss: 2.31168023558822, Test Accuracy: 10.11\n",
            "Optimizer: Adam, Epoch: 5, Train Loss: 2.311664793791293, Test Accuracy: 10.11\n"
          ]
        },
        {
          "output_type": "display_data",
          "data": {
            "text/plain": [
              "<Figure size 640x480 with 1 Axes>"
            ],
            "image/png": "[encoded data removed]"
          },
          "metadata": {}
        }
      ]
    },
    {
      "cell_type": "code",
      "source": [],
      "metadata": {
        "id": "fAwAXRFZGYey"
      },
      "execution_count": null,
      "outputs": []
    }
  ]
}