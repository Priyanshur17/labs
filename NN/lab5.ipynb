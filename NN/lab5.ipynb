{
  "nbformat": 4,
  "nbformat_minor": 0,
  "metadata": {
    "colab": {
      "provenance": []
    },
    "kernelspec": {
      "name": "python3",
      "display_name": "Python 3"
    },
    "language_info": {
      "name": "python"
    }
  },
  "cells": [
    {
      "cell_type": "markdown",
      "source": [
        "# *Priyanshu Raj*"
      ],
      "metadata": {
        "id": "m2aHRSv9UGRi"
      }
    },
    {
      "cell_type": "code",
      "execution_count": null,
      "metadata": {
        "id": "XQf--hH7NI52"
      },
      "outputs": [],
      "source": [
        "import torch\n",
        "import torchvision\n",
        "import torchvision.transforms as transforms\n",
        "\n",
        "# Define a transform to normalize the data\n",
        "transform = transforms.Compose([transforms.ToTensor(), transforms.Normalize((0.5,), (0.5,))])\n",
        "\n",
        "# Load the MNIST training and test datasets\n",
        "train_set = torchvision.datasets.MNIST(root='./data', train=True, download=True, transform=transform)\n",
        "test_set = torchvision.datasets.MNIST(root='./data', train=False, download=True, transform=transform)\n"
      ]
    },
    {
      "cell_type": "code",
      "source": [
        "print(f\"Number of training samples: {len(train_set)}\")\n",
        "print(f\"Number of testing samples: {len(test_set)}\")\n"
      ],
      "metadata": {
        "colab": {
          "base_uri": "https://localhost:8080/"
        },
        "id": "-j1FvM20NJnM",
        "outputId": "44a33af3-630c-495b-b0b6-c743e675bb1f"
      },
      "execution_count": null,
      "outputs": [
        {
          "output_type": "stream",
          "name": "stdout",
          "text": [
            "Number of training samples: 60000\n",
            "Number of testing samples: 10000\n"
          ]
        }
      ]
    },
    {
      "cell_type": "code",
      "source": [
        "import matplotlib.pyplot as plt\n",
        "\n",
        "def show_samples(dataset, n=6):\n",
        "    loader = torch.utils.data.DataLoader(dataset, batch_size=n, shuffle=True)\n",
        "    images, labels = next(iter(loader))\n",
        "    images = images.numpy().squeeze()\n",
        "\n",
        "    fig, axes = plt.subplots(1, n, figsize=(10, 4))\n",
        "    for i in range(n):\n",
        "        axes[i].imshow(images[i], cmap='gray')\n",
        "        axes[i].set_title(f\"Label: {labels[i]}\")\n",
        "        axes[i].axis('off')\n",
        "    plt.show()\n",
        "\n",
        "# Show samples from training and testing sets\n",
        "show_samples(train_set)\n",
        "show_samples(test_set)\n"
      ],
      "metadata": {
        "colab": {
          "base_uri": "https://localhost:8080/",
          "height": 323
        },
        "id": "WAVcqjZ6NTD6",
        "outputId": "192dcf6d-0a47-415d-e720-066f3033359c"
      },
      "execution_count": null,
      "outputs": [
        {
          "output_type": "display_data",
          "data": {
            "text/plain": [
              "<Figure size 1000x400 with 6 Axes>"
            ],
            "image/png": "[encoded data removed]"
          },
          "metadata": {}
        },
        {
          "output_type": "display_data",
          "data": {
            "text/plain": [
              "<Figure size 1000x400 with 6 Axes>"
            ],
            "image/png": "[encoded data removed]"
          },
          "metadata": {}
        }
      ]
    },
    {
      "cell_type": "code",
      "source": [
        "from torch.utils.data import DataLoader\n",
        "\n",
        "train_loader = DataLoader(train_set, batch_size=64, shuffle=True)\n",
        "test_loader = DataLoader(test_set, batch_size=64, shuffle=False)\n"
      ],
      "metadata": {
        "id": "D6v4nb-rNdUm"
      },
      "execution_count": null,
      "outputs": []
    },
    {
      "cell_type": "code",
      "source": [
        "import torch.nn as nn\n",
        "import torch.nn.functional as F\n",
        "\n",
        "class LogisticRegressionModel(nn.Module):\n",
        "    def __init__(self):\n",
        "        super(LogisticRegressionModel, self).__init__()\n",
        "        self.fc = nn.Linear(28*28, 10)  # Flatten the 28x28 images to 784 input features\n",
        "\n",
        "    def forward(self, x):\n",
        "        x = x.view(-1, 28*28)  # Flatten the image\n",
        "        x = self.fc(x)\n",
        "        return F.log_softmax(x, dim=1)\n"
      ],
      "metadata": {
        "id": "3bvWyUoONl0I"
      },
      "execution_count": null,
      "outputs": []
    },
    {
      "cell_type": "code",
      "source": [
        "import torch.optim as optim\n",
        "\n",
        "# Initialize model, loss function, and optimizer\n",
        "model = LogisticRegressionModel()\n",
        "criterion = nn.CrossEntropyLoss()\n",
        "optimizer = optim.SGD(model.parameters(), lr=0.01)\n",
        "\n",
        "# Training function\n",
        "def train(model, train_loader, criterion, optimizer, epochs=5):\n",
        "    for epoch in range(epochs):\n",
        "        running_loss = 0.0\n",
        "        correct = 0\n",
        "        total = 0\n",
        "\n",
        "        for images, labels in train_loader:\n",
        "            optimizer.zero_grad()\n",
        "\n",
        "            # Forward pass\n",
        "            outputs = model(images)\n",
        "            loss = criterion(outputs, labels)\n",
        "            loss.backward()  # Backpropagation\n",
        "            optimizer.step()\n",
        "\n",
        "            running_loss += loss.item()\n",
        "\n",
        "            # Calculate accuracy\n",
        "            _, predicted = torch.max(outputs, 1)\n",
        "            total += labels.size(0)\n",
        "            correct += (predicted == labels).sum().item()\n",
        "\n",
        "        accuracy = 100 * correct / total\n",
        "        print(f\"Epoch {epoch+1}, Loss: {running_loss/len(train_loader):.4f}, Accuracy: {accuracy:.2f}%\")\n",
        "\n",
        "# Train the model\n",
        "train(model, train_loader, criterion, optimizer)\n"
      ],
      "metadata": {
        "colab": {
          "base_uri": "https://localhost:8080/"
        },
        "id": "lzADF-bdPAhI",
        "outputId": "f070a337-c385-4bc7-c7bd-1b92c83e5f0b"
      },
      "execution_count": null,
      "outputs": [
        {
          "output_type": "stream",
          "name": "stdout",
          "text": [
            "Epoch 1, Loss: 0.4696, Accuracy: 87.34%\n",
            "Epoch 2, Loss: 0.3324, Accuracy: 90.56%\n",
            "Epoch 3, Loss: 0.3113, Accuracy: 91.20%\n",
            "Epoch 4, Loss: 0.3004, Accuracy: 91.55%\n",
            "Epoch 5, Loss: 0.2931, Accuracy: 91.76%\n"
          ]
        }
      ]
    },
    {
      "cell_type": "code",
      "source": [
        "class LogisticRegressionWithBatchNorm(nn.Module):\n",
        "    def __init__(self):\n",
        "        super(LogisticRegressionWithBatchNorm, self).__init__()\n",
        "        self.fc = nn.Linear(28*28, 10)\n",
        "        self.bn = nn.BatchNorm1d(10)\n",
        "\n",
        "    def forward(self, x):\n",
        "        x = x.view(-1, 28*28)\n",
        "        x = self.fc(x)\n",
        "        x = self.bn(x)\n",
        "        return F.log_softmax(x, dim=1)\n"
      ],
      "metadata": {
        "id": "4zzKUGN9PF7q"
      },
      "execution_count": null,
      "outputs": []
    },
    {
      "cell_type": "code",
      "source": [
        "model_bn = LogisticRegressionWithBatchNorm()\n",
        "\n",
        "print(\"Training with Batch Normalization Only:\")\n",
        "train(model_bn, train_loader, criterion, optimizer)\n"
      ],
      "metadata": {
        "colab": {
          "base_uri": "https://localhost:8080/"
        },
        "id": "bzzTv0BcTjuw",
        "outputId": "9f46dc98-f7d0-4611-c33f-412e309e4276"
      },
      "execution_count": null,
      "outputs": [
        {
          "output_type": "stream",
          "name": "stdout",
          "text": [
            "Training with Batch Normalization Only:\n",
            "Epoch 1, Loss: 2.8761, Accuracy: 9.34%\n",
            "Epoch 2, Loss: 2.8747, Accuracy: 9.35%\n",
            "Epoch 3, Loss: 2.8746, Accuracy: 9.40%\n",
            "Epoch 4, Loss: 2.8736, Accuracy: 9.43%\n",
            "Epoch 5, Loss: 2.8737, Accuracy: 9.41%\n"
          ]
        }
      ]
    },
    {
      "cell_type": "code",
      "source": [
        "transform = transforms.Compose([\n",
        "    transforms.RandomRotation(10),   # Random rotation\n",
        "    transforms.RandomHorizontalFlip(),  # Random horizontal flip\n",
        "    transforms.ToTensor(),\n",
        "    transforms.Normalize((0.5,), (0.5,))\n",
        "])\n",
        "\n",
        "# Recreate train_set with augmentation\n",
        "train_set_augmented = torchvision.datasets.MNIST(root='./data', train=True, download=True, transform=transform)\n",
        "train_loader_augmented = DataLoader(train_set_augmented, batch_size=64, shuffle=True)\n"
      ],
      "metadata": {
        "id": "HA81CfoAPtL_"
      },
      "execution_count": null,
      "outputs": []
    },
    {
      "cell_type": "code",
      "source": [
        "print(\"Training with Data Augmentation Only:\")\n",
        "train(model, train_loader_augmented, criterion, optimizer)\n"
      ],
      "metadata": {
        "colab": {
          "base_uri": "https://localhost:8080/"
        },
        "id": "ZvfHmd1NTu88",
        "outputId": "8ac91e09-f709-4e7f-9b7e-a8226b835af9"
      },
      "execution_count": null,
      "outputs": [
        {
          "output_type": "stream",
          "name": "stdout",
          "text": [
            "Training with Data Augmentation Only:\n",
            "Epoch 1, Loss: 0.5349, Accuracy: 83.25%\n",
            "Epoch 2, Loss: 0.5329, Accuracy: 83.35%\n",
            "Epoch 3, Loss: 0.5302, Accuracy: 83.51%\n",
            "Epoch 4, Loss: 0.5252, Accuracy: 83.60%\n",
            "Epoch 5, Loss: 0.5246, Accuracy: 83.52%\n"
          ]
        }
      ]
    },
    {
      "cell_type": "code",
      "source": [
        "class LogisticRegressionWithDropout(nn.Module):\n",
        "    def __init__(self):\n",
        "        super(LogisticRegressionWithDropout, self).__init__()\n",
        "        self.fc = nn.Linear(28*28, 10)\n",
        "        self.dropout = nn.Dropout(0.5)\n",
        "\n",
        "    def forward(self, x):\n",
        "        x = x.view(-1, 28*28)\n",
        "        x = self.dropout(self.fc(x))\n",
        "        return F.log_softmax(x, dim=1)\n"
      ],
      "metadata": {
        "id": "T1XMdZOuQDT_"
      },
      "execution_count": null,
      "outputs": []
    },
    {
      "cell_type": "code",
      "source": [
        "model_dropout = LogisticRegressionWithDropout()\n",
        "\n",
        "print(\"Training with Dropout Only:\")\n",
        "train(model_dropout, train_loader, criterion, optimizer)\n"
      ],
      "metadata": {
        "colab": {
          "base_uri": "https://localhost:8080/"
        },
        "id": "INcTejXmT0iv",
        "outputId": "b85cf774-285c-4429-9b87-f1c02abe604d"
      },
      "execution_count": null,
      "outputs": [
        {
          "output_type": "stream",
          "name": "stdout",
          "text": [
            "Training with Dropout Only:\n",
            "Epoch 1, Loss: 2.4229, Accuracy: 11.42%\n",
            "Epoch 2, Loss: 2.4252, Accuracy: 11.33%\n",
            "Epoch 3, Loss: 2.4191, Accuracy: 11.44%\n",
            "Epoch 4, Loss: 2.4211, Accuracy: 11.62%\n",
            "Epoch 5, Loss: 2.4215, Accuracy: 11.77%\n"
          ]
        }
      ]
    },
    {
      "cell_type": "code",
      "source": [
        "class LogisticRegressionWithBatchNormAndAugmentation(nn.Module):\n",
        "    def __init__(self):\n",
        "        super(LogisticRegressionWithBatchNormAndAugmentation, self).__init__()\n",
        "        self.fc = nn.Linear(28*28, 10)\n",
        "        self.bn = nn.BatchNorm1d(10)\n",
        "\n",
        "    def forward(self, x):\n",
        "        x = x.view(-1, 28*28)\n",
        "        x = self.fc(x)\n",
        "        x = self.bn(x)\n",
        "        return F.log_softmax(x, dim=1)\n",
        "\n",
        "# Data Augmentation\n",
        "transform_aug = transforms.Compose([\n",
        "    transforms.RandomRotation(10),\n",
        "    transforms.RandomHorizontalFlip(),\n",
        "    transforms.ToTensor(),\n",
        "    transforms.Normalize((0.5,), (0.5,))\n",
        "])\n",
        "\n",
        "# Load the augmented dataset into DataLoader\n",
        "train_set_aug = torchvision.datasets.MNIST(root='./data', train=True, download=True, transform=transform_aug)\n",
        "train_loader_aug = DataLoader(train_set_aug, batch_size=64, shuffle=True)\n",
        "\n",
        "# Train the model with Batch Norm and Augmentation\n",
        "model_bn_aug = LogisticRegressionWithBatchNormAndAugmentation()\n",
        "train(model_bn_aug, train_loader_aug, criterion, optimizer)\n"
      ],
      "metadata": {
        "colab": {
          "base_uri": "https://localhost:8080/"
        },
        "id": "Odna-O20QFeI",
        "outputId": "0497e7cc-64b0-4f0b-accf-312ca1806e23"
      },
      "execution_count": null,
      "outputs": [
        {
          "output_type": "stream",
          "name": "stdout",
          "text": [
            "Epoch 1, Loss: 2.5437, Accuracy: 11.34%\n",
            "Epoch 2, Loss: 2.5434, Accuracy: 11.23%\n",
            "Epoch 3, Loss: 2.5448, Accuracy: 11.33%\n",
            "Epoch 4, Loss: 2.5398, Accuracy: 11.49%\n",
            "Epoch 5, Loss: 2.5392, Accuracy: 11.38%\n"
          ]
        }
      ]
    },
    {
      "cell_type": "code",
      "source": [
        "class LogisticRegressionWithBatchNormAndDropout(nn.Module):\n",
        "    def __init__(self):\n",
        "        super(LogisticRegressionWithBatchNormAndDropout, self).__init__()\n",
        "        self.fc = nn.Linear(28*28, 10)\n",
        "        self.bn = nn.BatchNorm1d(10)\n",
        "        self.dropout = nn.Dropout(0.5)\n",
        "\n",
        "    def forward(self, x):\n",
        "        x = x.view(-1, 28*28)\n",
        "        x = self.fc(x)\n",
        "        x = self.bn(x)\n",
        "        x = self.dropout(x)\n",
        "        return F.log_softmax(x, dim=1)\n",
        "\n",
        "# Train the model with Batch Norm and Dropout\n",
        "model_bn_dropout = LogisticRegressionWithBatchNormAndDropout()\n",
        "train(model_bn_dropout, train_loader, criterion, optimizer)\n"
      ],
      "metadata": {
        "colab": {
          "base_uri": "https://localhost:8080/"
        },
        "id": "USybdmVKQutR",
        "outputId": "40668064-54fb-4634-cdd2-8d1cb0c73781"
      },
      "execution_count": null,
      "outputs": [
        {
          "output_type": "stream",
          "name": "stdout",
          "text": [
            "Epoch 1, Loss: 3.1411, Accuracy: 10.50%\n",
            "Epoch 2, Loss: 3.1391, Accuracy: 10.74%\n",
            "Epoch 3, Loss: 3.1386, Accuracy: 10.77%\n",
            "Epoch 4, Loss: 3.1424, Accuracy: 10.89%\n",
            "Epoch 5, Loss: 3.1339, Accuracy: 10.92%\n"
          ]
        }
      ]
    },
    {
      "cell_type": "code",
      "source": [
        "class LogisticRegressionWithAugmentationAndDropout(nn.Module):\n",
        "    def __init__(self):\n",
        "        super(LogisticRegressionWithAugmentationAndDropout, self).__init__()\n",
        "        self.fc = nn.Linear(28*28, 10)\n",
        "        self.dropout = nn.Dropout(0.5)\n",
        "\n",
        "    def forward(self, x):\n",
        "        x = x.view(-1, 28*28)\n",
        "        x = self.fc(x)\n",
        "        x = self.dropout(x)\n",
        "        return F.log_softmax(x, dim=1)\n",
        "\n",
        "# Train the model with Data Augmentation and Dropout\n",
        "model_aug_dropout = LogisticRegressionWithAugmentationAndDropout()\n",
        "train(model_aug_dropout, train_loader_aug, criterion, optimizer)\n"
      ],
      "metadata": {
        "colab": {
          "base_uri": "https://localhost:8080/"
        },
        "id": "-LFScLd5Qyvj",
        "outputId": "cf6bfef0-1a64-412b-e785-3f8f4b659fc1"
      },
      "execution_count": null,
      "outputs": [
        {
          "output_type": "stream",
          "name": "stdout",
          "text": [
            "Epoch 1, Loss: 2.4652, Accuracy: 9.76%\n",
            "Epoch 2, Loss: 2.4649, Accuracy: 9.80%\n",
            "Epoch 3, Loss: 2.4613, Accuracy: 9.72%\n",
            "Epoch 4, Loss: 2.4596, Accuracy: 9.99%\n",
            "Epoch 5, Loss: 2.4651, Accuracy: 9.77%\n"
          ]
        }
      ]
    }
  ]
}